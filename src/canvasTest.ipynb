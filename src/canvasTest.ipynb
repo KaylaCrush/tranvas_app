{
 "cells": [
  {
   "cell_type": "code",
   "execution_count": 1,
   "metadata": {},
   "outputs": [],
   "source": [
    "# SOME DATA\n",
    "my_userid = 2233\n",
    "current_term_id = 231\n",
    "project_id = 10\n",
    "\n",
    "# SOME URLS\n",
    "base_url = \"https://canvas.seattlecolleges.edu/api/v1/\"\n",
    "list_courses = base_url+\"courses\"\n",
    "get_todo = base_url+\"users/self/todo\"\n",
    "get_project = \"https://api.github.com/users/KaylaCrush/projects\""
   ]
  },
  {
   "cell_type": "code",
   "execution_count": 1,
   "metadata": {},
   "outputs": [],
   "source": [
    "from integrations.integrationManager import IntegrationManager\n",
    "\n",
    "# trello = TrelloIntegration()\n",
    "# canvas = CanvasIntegration()\n",
    "im = IntegrationManager()"
   ]
  },
  {
   "cell_type": "code",
   "execution_count": 3,
   "metadata": {},
   "outputs": [
    {
     "data": {
      "text/plain": [
       "'WHAT WHAT'"
      ]
     },
     "execution_count": 3,
     "metadata": {},
     "output_type": "execute_result"
    }
   ],
   "source": [
    "im.create_or_update_all_assignments()"
   ]
  },
  {
   "cell_type": "code",
   "execution_count": null,
   "metadata": {},
   "outputs": [],
   "source": []
  }
 ],
 "metadata": {
  "kernelspec": {
   "display_name": "Python 3",
   "language": "python",
   "name": "python3"
  },
  "language_info": {
   "codemirror_mode": {
    "name": "ipython",
    "version": 3
   },
   "file_extension": ".py",
   "mimetype": "text/x-python",
   "name": "python",
   "nbconvert_exporter": "python",
   "pygments_lexer": "ipython3",
   "version": "3.11.7"
  }
 },
 "nbformat": 4,
 "nbformat_minor": 2
}
