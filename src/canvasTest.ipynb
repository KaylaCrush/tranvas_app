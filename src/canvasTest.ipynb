{
 "cells": [
  {
   "cell_type": "code",
   "execution_count": 46,
   "metadata": {},
   "outputs": [],
   "source": [
    "# SOME DATA\n",
    "my_userid = 2233\n",
    "current_term_id = 231\n",
    "project_id = 10\n",
    "\n",
    "# SOME URLS\n",
    "base_url = \"https://canvas.seattlecolleges.edu/api/v1/\"\n",
    "list_courses = base_url+\"courses\"\n",
    "get_todo = base_url+\"users/self/todo\"\n",
    "get_project = \"https://api.github.com/users/KaylaCrush/projects\""
   ]
  },
  {
   "cell_type": "code",
   "execution_count": null,
   "metadata": {},
   "outputs": [],
   "source": []
  },
  {
   "cell_type": "code",
   "execution_count": null,
   "metadata": {},
   "outputs": [],
   "source": [
    "assign = im.canvas.a\n",
    "desc = im.canvas.course_dict[assign['course_id']]\n",
    "desc += assignment['html_url']\n",
    "return desc\n",
    "\n"
   ]
  },
  {
   "cell_type": "code",
   "execution_count": 1,
   "metadata": {},
   "outputs": [],
   "source": [
    "from trelloIntegration import TrelloIntegration\n",
    "trello = TrelloIntegration()"
   ]
  },
  {
   "cell_type": "code",
   "execution_count": 2,
   "metadata": {},
   "outputs": [],
   "source": [
    "from canvasIntegration import CanvasIntegration\n",
    "canvas = CanvasIntegration()"
   ]
  },
  {
   "cell_type": "code",
   "execution_count": 3,
   "metadata": {},
   "outputs": [
    {
     "data": {
      "text/plain": [
       "{'Analysis of Algorithms': 30144,\n",
       " 'Fund. of Comp. Science': 30140,\n",
       " 'Computer Arch. & Net.': 30093}"
      ]
     },
     "execution_count": 3,
     "metadata": {},
     "output_type": "execute_result"
    }
   ],
   "source": [
    "{course['name'].split(\" - \")[-1]:course['id'] for course in canvas.current_courses}"
   ]
  },
  {
   "cell_type": "code",
   "execution_count": 5,
   "metadata": {},
   "outputs": [
    {
     "data": {
      "text/plain": [
       "30144"
      ]
     },
     "execution_count": 5,
     "metadata": {},
     "output_type": "execute_result"
    }
   ],
   "source": [
    "canvas.all_assignments[0]['course_id']"
   ]
  },
  {
   "cell_type": "code",
   "execution_count": 1,
   "metadata": {},
   "outputs": [
    {
     "data": {
      "text/plain": [
       "'WHAT WHAT'"
      ]
     },
     "execution_count": 1,
     "metadata": {},
     "output_type": "execute_result"
    }
   ],
   "source": [
    "from integrations.integrationManager import IntegrationManager\n",
    "\n",
    "# trello = TrelloIntegration()\n",
    "# canvas = CanvasIntegration()\n",
    "im = IntegrationManager()\n",
    "im.create_or_update_all_assignments()"
   ]
  },
  {
   "cell_type": "code",
   "execution_count": 4,
   "metadata": {},
   "outputs": [
    {
     "data": {
      "text/plain": [
       "'WHAT WHAT'"
      ]
     },
     "execution_count": 4,
     "metadata": {},
     "output_type": "execute_result"
    }
   ],
   "source": [
    "im.create_or_update_all_assignments()"
   ]
  },
  {
   "cell_type": "code",
   "execution_count": 14,
   "metadata": {},
   "outputs": [
    {
     "data": {
      "text/plain": [
       "'679aabbe7f95308962f44f07'"
      ]
     },
     "execution_count": 14,
     "metadata": {},
     "output_type": "execute_result"
    }
   ],
   "source": [
    "[label['id'] for label in im.trello.labels if label['name'] == 'Computer Arch. & Net.'][0]"
   ]
  },
  {
   "cell_type": "code",
   "execution_count": 15,
   "metadata": {},
   "outputs": [
    {
     "data": {
      "text/plain": [
       "{'id': '679b011d660417c307db0421',\n",
       " 'badges': {'attachmentsByType': {'trello': {'board': 0, 'card': 0}},\n",
       "  'externalSource': None,\n",
       "  'location': False,\n",
       "  'votes': 0,\n",
       "  'viewingMemberVoted': False,\n",
       "  'subscribed': False,\n",
       "  'attachments': 0,\n",
       "  'fogbugz': '',\n",
       "  'checkItems': 0,\n",
       "  'checkItemsChecked': 0,\n",
       "  'checkItemsEarliestDue': None,\n",
       "  'comments': 0,\n",
       "  'description': True,\n",
       "  'due': '2025-02-26T07:59:59.000Z',\n",
       "  'dueComplete': False,\n",
       "  'lastUpdatedByAi': False,\n",
       "  'start': None},\n",
       " 'checkItemStates': [],\n",
       " 'closed': False,\n",
       " 'dueComplete': False,\n",
       " 'dateLastActivity': '2025-01-30T04:35:13.618Z',\n",
       " 'desc': 'https://canvas.seattlecolleges.edu/courses/30144/assignments/535447',\n",
       " 'descData': {'emoji': {}},\n",
       " 'due': '2025-02-26T07:59:59.000Z',\n",
       " 'dueReminder': None,\n",
       " 'email': None,\n",
       " 'idBoard': '679aabbe7f95308962f44da9',\n",
       " 'idChecklists': [],\n",
       " 'idList': '679aabbe7f95308962f44dab',\n",
       " 'idMembers': [],\n",
       " 'idMembersVoted': [],\n",
       " 'idShort': 35,\n",
       " 'idAttachmentCover': None,\n",
       " 'labels': [],\n",
       " 'idLabels': [],\n",
       " 'manualCoverAttachment': False,\n",
       " 'name': 'Project 2: Comparing Knapsacks Experiment',\n",
       " 'pinned': False,\n",
       " 'pos': 16384,\n",
       " 'shortLink': 'dP7iy6go',\n",
       " 'shortUrl': 'https://trello.com/c/dP7iy6go',\n",
       " 'start': None,\n",
       " 'subscribed': False,\n",
       " 'url': 'https://trello.com/c/dP7iy6go/35-project-2-comparing-knapsacks-experiment',\n",
       " 'cover': {'idAttachment': None,\n",
       "  'color': None,\n",
       "  'idUploadedBackground': None,\n",
       "  'size': 'normal',\n",
       "  'brightness': 'dark',\n",
       "  'idPlugin': None},\n",
       " 'isTemplate': False,\n",
       " 'cardRole': None,\n",
       " 'mirrorSourceId': None}"
      ]
     },
     "execution_count": 15,
     "metadata": {},
     "output_type": "execute_result"
    }
   ],
   "source": [
    "im.trello.cards[0]"
   ]
  },
  {
   "cell_type": "code",
   "execution_count": 3,
   "metadata": {},
   "outputs": [
    {
     "data": {
      "text/plain": [
       "'WHAT WHAT'"
      ]
     },
     "execution_count": 3,
     "metadata": {},
     "output_type": "execute_result"
    }
   ],
   "source": [
    "im.create_or_update_all_assignments()"
   ]
  }
 ],
 "metadata": {
  "kernelspec": {
   "display_name": "Python 3",
   "language": "python",
   "name": "python3"
  },
  "language_info": {
   "codemirror_mode": {
    "name": "ipython",
    "version": 3
   },
   "file_extension": ".py",
   "mimetype": "text/x-python",
   "name": "python",
   "nbconvert_exporter": "python",
   "pygments_lexer": "ipython3",
   "version": "3.11.7"
  }
 },
 "nbformat": 4,
 "nbformat_minor": 2
}
