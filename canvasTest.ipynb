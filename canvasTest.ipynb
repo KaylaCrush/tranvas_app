{
 "cells": [
  {
   "cell_type": "code",
   "execution_count": 1,
   "metadata": {},
   "outputs": [],
   "source": [
    "# SOME DATA\n",
    "my_userid = 2233\n",
    "current_term_id = 231\n",
    "project_id = 10\n",
    "\n",
    "# SOME URLS\n",
    "base_url = \"https://canvas.seattlecolleges.edu/api/v1/\"\n",
    "list_courses = base_url+\"courses\"\n",
    "get_todo = base_url+\"users/self/todo\"\n",
    "get_project = \"https://api.github.com/users/KaylaCrush/projects\""
   ]
  },
  {
   "cell_type": "code",
   "execution_count": 7,
   "metadata": {},
   "outputs": [],
   "source": [
    "import json\n",
    "settings = {\n",
    "    'canvas_instance_url':'canvas.seattlecolleges.edu'\n",
    "}\n",
    "with open('settings.json', \"w\") as f:\n",
    "    json.dump(settings, f, indent=4)"
   ]
  },
  {
   "cell_type": "code",
   "execution_count": 8,
   "metadata": {},
   "outputs": [],
   "source": [
    "with open('settings.json', \"r\") as f:\n",
    "    settings= json.load(f)"
   ]
  },
  {
   "cell_type": "code",
   "execution_count": 4,
   "metadata": {},
   "outputs": [],
   "source": [
    "import os, requests\n",
    "def request(url, params={}, request_type=\"GET\"):\n",
    "    headers = {\n",
    "        \"Authorization\": \"Bearer \" + os.getenv(\"CANVAS_TOKEN\")\n",
    "    }\n",
    "\n",
    "    results = []  # To store all the data from paginated requests\n",
    "\n",
    "    while url:\n",
    "        # Send the request\n",
    "        if request_type == \"GET\":\n",
    "            response = requests.get(url, headers=headers, params=params)\n",
    "        elif request_type == \"POST\":\n",
    "            response = requests.post(url, headers=headers, json=params)\n",
    "        else:\n",
    "            raise ValueError(f\"Unsupported request type: {request_type}\")\n",
    "\n",
    "        # Check for a successful response\n",
    "        if response.status_code == 200:\n",
    "            data = response.json()\n",
    "            # Append the data to results\n",
    "            if isinstance(data, list):\n",
    "                results.extend(data)\n",
    "            else:\n",
    "                results.append(data)\n",
    "\n",
    "            # Parse the 'Link' header to find the next page URL\n",
    "            link_header = response.headers.get('Link', '')\n",
    "            next_url = None\n",
    "            for part in link_header.split(','):\n",
    "                if 'rel=\"next\"' in part:\n",
    "                    next_url = part[part.find('<') + 1:part.find('>')]\n",
    "                    break\n",
    "            url = next_url  # Update the URL for the next request\n",
    "            params = {}  # Clear params for subsequent requests\n",
    "        else:\n",
    "            print(f\"Error: {response.status_code}, {response.text}\")\n",
    "            break\n",
    "\n",
    "    return results"
   ]
  },
  {
   "cell_type": "code",
   "execution_count": 5,
   "metadata": {},
   "outputs": [],
   "source": [
    "url = \"https://canvas.seattlecolleges.edu/api/v1/courses\"\n",
    "all_courses = request(url)"
   ]
  },
  {
   "cell_type": "code",
   "execution_count": 1,
   "metadata": {},
   "outputs": [
    {
     "data": {
      "text/plain": [
       "True"
      ]
     },
     "execution_count": 1,
     "metadata": {},
     "output_type": "execute_result"
    }
   ],
   "source": [
    "d = {1:2,3:4}\n",
    "1 in d.keys()"
   ]
  },
  {
   "cell_type": "code",
   "execution_count": 21,
   "metadata": {},
   "outputs": [],
   "source": [
    "from src.integrations.integrationManager import IntegrationManager\n",
    "from src.integrations.canvasIntegration import CanvasIntegration\n",
    "from src.integrations.trelloIntegration import TrelloIntegration\n",
    "trello = TrelloIntegration()\n",
    "#canvas = CanvasIntegration()\n",
    "#im = IntegrationManager()"
   ]
  },
  {
   "cell_type": "code",
   "execution_count": 2,
   "metadata": {},
   "outputs": [
    {
     "data": {
      "text/plain": [
       "'WHAT WHAT'"
      ]
     },
     "execution_count": 2,
     "metadata": {},
     "output_type": "execute_result"
    }
   ],
   "source": [
    "im.create_or_update_all_assignments()"
   ]
  },
  {
   "cell_type": "code",
   "execution_count": 10,
   "metadata": {},
   "outputs": [
    {
     "data": {
      "text/plain": [
       "{'id': '67aac35841b89e937b3fb994',\n",
       " 'badges': {'attachmentsByType': {'trello': {'board': 0, 'card': 0}},\n",
       "  'externalSource': None,\n",
       "  'location': False,\n",
       "  'votes': 0,\n",
       "  'viewingMemberVoted': False,\n",
       "  'subscribed': False,\n",
       "  'attachments': 0,\n",
       "  'fogbugz': '',\n",
       "  'checkItems': 0,\n",
       "  'checkItemsChecked': 0,\n",
       "  'checkItemsEarliestDue': None,\n",
       "  'comments': 0,\n",
       "  'description': True,\n",
       "  'due': None,\n",
       "  'dueComplete': False,\n",
       "  'lastUpdatedByAi': False,\n",
       "  'start': None},\n",
       " 'checkItemStates': [],\n",
       " 'closed': False,\n",
       " 'dueComplete': False,\n",
       " 'dateLastActivity': '2025-02-11T03:26:16.941Z',\n",
       " 'desc': 'just a card',\n",
       " 'descData': {'emoji': {}},\n",
       " 'due': None,\n",
       " 'dueReminder': None,\n",
       " 'email': None,\n",
       " 'idBoard': '679aabbe7f95308962f44da9',\n",
       " 'idChecklists': [],\n",
       " 'idList': '679aabbe7f95308962f44dad',\n",
       " 'idMembers': [],\n",
       " 'idMembersVoted': [],\n",
       " 'idShort': 429,\n",
       " 'idAttachmentCover': None,\n",
       " 'labels': [],\n",
       " 'idLabels': [],\n",
       " 'manualCoverAttachment': False,\n",
       " 'name': 'testcard',\n",
       " 'pinned': False,\n",
       " 'pos': 147456,\n",
       " 'shortLink': 'KMAI8B4m',\n",
       " 'shortUrl': 'https://trello.com/c/KMAI8B4m',\n",
       " 'start': None,\n",
       " 'subscribed': False,\n",
       " 'url': 'https://trello.com/c/KMAI8B4m/429-testcard',\n",
       " 'cover': {'idAttachment': None,\n",
       "  'color': None,\n",
       "  'idUploadedBackground': None,\n",
       "  'size': 'normal',\n",
       "  'brightness': 'dark',\n",
       "  'idPlugin': None},\n",
       " 'isTemplate': False,\n",
       " 'cardRole': None,\n",
       " 'mirrorSourceId': None,\n",
       " 'attachments': [],\n",
       " 'stickers': [],\n",
       " 'limits': {}}"
      ]
     },
     "execution_count": 10,
     "metadata": {},
     "output_type": "execute_result"
    }
   ],
   "source": [
    "im.trello.create_card(2, 'testcard','just a card',None,None)"
   ]
  },
  {
   "cell_type": "code",
   "execution_count": 9,
   "metadata": {},
   "outputs": [],
   "source": [
    "im.create_assignment_card(assignment)"
   ]
  },
  {
   "cell_type": "code",
   "execution_count": 3,
   "metadata": {},
   "outputs": [],
   "source": [
    "from src.integrations.trelloIntegration import TrelloIntegration\n",
    "trello = TrelloIntegration()"
   ]
  },
  {
   "cell_type": "code",
   "execution_count": 16,
   "metadata": {},
   "outputs": [
    {
     "data": {
      "text/plain": [
       "'679aabbe7f95308962f44f06'"
      ]
     },
     "execution_count": 16,
     "metadata": {},
     "output_type": "execute_result"
    }
   ],
   "source": [
    "[label['id'] for label in trello.labels if label['name'] == \"Managed By App\"][0]"
   ]
  },
  {
   "cell_type": "code",
   "execution_count": 6,
   "metadata": {},
   "outputs": [],
   "source": [
    "for assignment in im.canvas.all_assignments:\n",
    "    if 'zyBook Work: Sets' in assignment['name']:\n",
    "        zybook = assignment\n",
    "\n"
   ]
  },
  {
   "cell_type": "code",
   "execution_count": 11,
   "metadata": {},
   "outputs": [
    {
     "data": {
      "text/plain": [
       "[{'_value': None}]"
      ]
     },
     "execution_count": 25,
     "metadata": {},
     "output_type": "execute_result"
    }
   ],
   "source": [
    "trello.delete_board(board_id)"
   ]
  },
  {
   "cell_type": "code",
   "execution_count": 20,
   "metadata": {},
   "outputs": [],
   "source": [
    "im.trello.delete_all_cards()"
   ]
  },
  {
   "cell_type": "code",
   "execution_count": 13,
   "metadata": {},
   "outputs": [
    {
     "data": {
      "text/plain": [
       "['2025-02-10T07:59:59Z',\n",
       " '2025-02-26T07:59:59Z',\n",
       " '2025-01-15T07:59:59Z',\n",
       " '2025-01-22T07:59:59Z',\n",
       " '2025-01-29T07:59:59Z',\n",
       " '2025-02-05T07:59:59Z',\n",
       " '2025-02-05T07:59:59Z',\n",
       " '2025-02-12T07:59:59Z',\n",
       " '2025-02-19T07:59:59Z',\n",
       " '2025-02-26T07:59:59Z',\n",
       " '2025-02-26T07:59:59Z',\n",
       " '2025-02-01T07:59:59Z',\n",
       " '2025-02-12T07:59:59Z',\n",
       " '2025-03-19T06:59:59Z',\n",
       " '2025-03-19T06:59:59Z',\n",
       " None,\n",
       " None,\n",
       " None,\n",
       " None,\n",
       " None,\n",
       " None,\n",
       " None,\n",
       " '2025-02-27T07:59:00Z',\n",
       " '2025-01-15T07:59:59Z',\n",
       " '2025-01-24T07:59:59Z',\n",
       " '2025-01-29T07:59:59Z',\n",
       " '2025-02-05T07:59:59Z',\n",
       " '2025-02-12T07:59:59Z',\n",
       " '2025-02-26T07:59:59Z',\n",
       " '2025-03-12T06:59:59Z',\n",
       " '2025-03-05T07:59:59Z',\n",
       " '2025-01-22T07:59:59Z',\n",
       " '2025-02-19T07:59:59Z',\n",
       " '2025-03-26T06:59:59Z',\n",
       " '2025-03-26T06:59:59Z',\n",
       " '2025-03-27T06:59:59Z',\n",
       " None,\n",
       " '2025-03-26T06:59:59Z',\n",
       " '2025-03-26T06:59:59Z',\n",
       " None,\n",
       " '2025-01-25T07:59:00Z',\n",
       " '2025-02-01T07:59:00Z',\n",
       " '2025-02-22T07:59:59Z',\n",
       " '2025-03-08T07:59:00Z',\n",
       " '2025-03-15T06:59:00Z',\n",
       " '2025-01-25T07:59:59Z',\n",
       " '2025-01-23T07:59:00Z',\n",
       " '2025-01-30T07:59:00Z',\n",
       " '2025-02-06T07:59:00Z',\n",
       " '2025-02-20T07:59:59Z',\n",
       " '2025-02-27T07:59:59Z',\n",
       " '2025-03-06T07:59:00Z',\n",
       " '2025-01-15T07:59:00Z',\n",
       " '2025-01-22T07:59:00Z',\n",
       " '2025-01-29T07:59:00Z',\n",
       " '2025-02-05T07:59:00Z',\n",
       " '2025-02-19T07:59:00Z',\n",
       " '2025-02-19T07:59:00Z',\n",
       " '2025-02-26T07:59:00Z',\n",
       " '2025-03-05T07:59:00Z',\n",
       " '2025-03-19T06:59:00Z',\n",
       " None,\n",
       " '2025-01-26T07:59:00Z',\n",
       " '2025-02-16T07:59:00Z',\n",
       " '2025-03-09T07:59:00Z',\n",
       " '2025-03-27T06:59:00Z',\n",
       " '2025-03-27T06:59:00Z',\n",
       " None,\n",
       " '2025-03-22T06:59:00Z',\n",
       " '2025-03-26T01:00:00Z',\n",
       " '2025-03-28T06:59:00Z',\n",
       " '2025-01-28T07:59:59Z',\n",
       " '2025-02-12T07:59:59Z',\n",
       " '2025-03-12T06:59:59Z',\n",
       " '2025-03-28T06:59:59Z',\n",
       " '2025-01-14T07:59:59Z',\n",
       " '2025-01-21T07:59:59Z',\n",
       " '2025-01-28T07:59:59Z',\n",
       " '2025-02-04T07:59:59Z',\n",
       " '2025-02-11T07:59:59Z',\n",
       " '2025-03-26T06:59:59Z']"
      ]
     },
     "execution_count": 13,
     "metadata": {},
     "output_type": "execute_result"
    }
   ],
   "source": [
    "[assignment['due_at'] for assignment in im.canvas.all_assignments]"
   ]
  }
 ],
 "metadata": {
  "kernelspec": {
   "display_name": "Python 3",
   "language": "python",
   "name": "python3"
  },
  "language_info": {
   "codemirror_mode": {
    "name": "ipython",
    "version": 3
   },
   "file_extension": ".py",
   "mimetype": "text/x-python",
   "name": "python",
   "nbconvert_exporter": "python",
   "pygments_lexer": "ipython3",
   "version": "3.11.7"
  }
 },
 "nbformat": 4,
 "nbformat_minor": 2
}
