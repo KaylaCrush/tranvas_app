{
 "cells": [
  {
   "cell_type": "code",
   "execution_count": 1,
   "metadata": {},
   "outputs": [],
   "source": [
    "# SOME DATA\n",
    "my_userid = 2233\n",
    "current_term_id = 231\n",
    "project_id = 10\n",
    "\n",
    "# SOME URLS\n",
    "base_url = \"https://canvas.seattlecolleges.edu/api/v1/\"\n",
    "list_courses = base_url+\"courses\"\n",
    "get_todo = base_url+\"users/self/todo\"\n",
    "get_project = \"https://api.github.com/users/KaylaCrush/projects\""
   ]
  },
  {
   "cell_type": "code",
   "execution_count": 7,
   "metadata": {},
   "outputs": [],
   "source": [
    "import json\n",
    "settings = {\n",
    "    'canvas_instance_url':'canvas.seattlecolleges.edu'\n",
    "}\n",
    "with open('settings.json', \"w\") as f:\n",
    "    json.dump(settings, f, indent=4)"
   ]
  },
  {
   "cell_type": "code",
   "execution_count": 8,
   "metadata": {},
   "outputs": [],
   "source": [
    "with open('settings.json', \"r\") as f:\n",
    "    settings= json.load(f)"
   ]
  },
  {
   "cell_type": "code",
   "execution_count": 4,
   "metadata": {},
   "outputs": [],
   "source": [
    "import os, requests\n",
    "def request(url, params={}, request_type=\"GET\"):\n",
    "    headers = {\n",
    "        \"Authorization\": \"Bearer \" + os.getenv(\"CANVAS_TOKEN\")\n",
    "    }\n",
    "\n",
    "    results = []  # To store all the data from paginated requests\n",
    "\n",
    "    while url:\n",
    "        # Send the request\n",
    "        if request_type == \"GET\":\n",
    "            response = requests.get(url, headers=headers, params=params)\n",
    "        elif request_type == \"POST\":\n",
    "            response = requests.post(url, headers=headers, json=params)\n",
    "        else:\n",
    "            raise ValueError(f\"Unsupported request type: {request_type}\")\n",
    "\n",
    "        # Check for a successful response\n",
    "        if response.status_code == 200:\n",
    "            data = response.json()\n",
    "            # Append the data to results\n",
    "            if isinstance(data, list):\n",
    "                results.extend(data)\n",
    "            else:\n",
    "                results.append(data)\n",
    "\n",
    "            # Parse the 'Link' header to find the next page URL\n",
    "            link_header = response.headers.get('Link', '')\n",
    "            next_url = None\n",
    "            for part in link_header.split(','):\n",
    "                if 'rel=\"next\"' in part:\n",
    "                    next_url = part[part.find('<') + 1:part.find('>')]\n",
    "                    break\n",
    "            url = next_url  # Update the URL for the next request\n",
    "            params = {}  # Clear params for subsequent requests\n",
    "        else:\n",
    "            print(f\"Error: {response.status_code}, {response.text}\")\n",
    "            break\n",
    "\n",
    "    return results"
   ]
  },
  {
   "cell_type": "code",
   "execution_count": 5,
   "metadata": {},
   "outputs": [],
   "source": [
    "url = \"https://canvas.seattlecolleges.edu/api/v1/courses\"\n",
    "all_courses = request(url)"
   ]
  },
  {
   "cell_type": "code",
   "execution_count": 1,
   "metadata": {},
   "outputs": [
    {
     "data": {
      "text/plain": [
       "True"
      ]
     },
     "execution_count": 1,
     "metadata": {},
     "output_type": "execute_result"
    }
   ],
   "source": [
    "d = {1:2,3:4}\n",
    "1 in d.keys()"
   ]
  },
  {
   "cell_type": "code",
   "execution_count": 21,
   "metadata": {},
   "outputs": [],
   "source": [
    "from src.integrations.integrationManager import IntegrationManager\n",
    "from src.integrations.canvasIntegration import CanvasIntegration\n",
    "from src.integrations.trelloIntegration import TrelloIntegration\n",
    "trello = TrelloIntegration()\n",
    "#canvas = CanvasIntegration()\n",
    "#im = IntegrationManager()"
   ]
  },
  {
   "cell_type": "code",
   "execution_count": 25,
   "metadata": {},
   "outputs": [
    {
     "data": {
      "text/plain": [
       "[{'_value': None}]"
      ]
     },
     "execution_count": 25,
     "metadata": {},
     "output_type": "execute_result"
    }
   ],
   "source": [
    "trello.delete_board(board_id)"
   ]
  },
  {
   "cell_type": "code",
   "execution_count": 13,
   "metadata": {},
   "outputs": [
    {
     "data": {
      "text/plain": [
       "{'id': '679aabbe7f95308962f44da9',\n",
       " 'nodeId': 'ari:cloud:trello::board/workspace/679aabbe7f95308962f44ccf/679aabbe7f95308962f44da9',\n",
       " 'name': 'The CrushBoard',\n",
       " 'desc': \"Use this simple Kanban template to keep the engineering team on the same page and moving through work fluidly. \\n\\n1. Break down the roadmap by adding tasks as cards to the **Backlog** list. \\n\\n2. Move the cards one-by-one through **Design** as they becomes more fleshed out. *Pro tip:* You can enable Power-ups for your favorite design tools like [Figma](https://trello.com/power-ups/59b2e7611e6ece0b35eac16a/figma) or [Invision](https://trello.com/power-ups/596f2cb2d279152540b2bb31), in order to easily link and view designs without switching context.\\n\\n3. When a card is fully specced out and designs are attached, move it to **To Do** for engineers to pick up. \\n\\n4. Engineers move cards to **Doing** and assign themselves to the cards, so the whole team stays informed of who is working on what.\\n\\n5. Cards then move through **Code Review** when they're ready for a second set of eyes. The team can set a **List Limit** (with the List Limit Power-up) on the number of cards in Code Review, as a visual indicator for when the team needs to prioritize reviews rather than picking up new work. \\n\\n6. Once cards move through **Testing** and eventually ship to production, move them to **Done** and celebrate!\\n\",\n",
       " 'descData': None,\n",
       " 'closed': False,\n",
       " 'dateClosed': None,\n",
       " 'idOrganization': '679aabbe7f95308962f44ccf',\n",
       " 'idEnterprise': None,\n",
       " 'limits': {'attachments': {'perBoard': {'status': 'ok',\n",
       "    'disableAt': 36000,\n",
       "    'warnAt': 28800},\n",
       "   'perCard': {'status': 'ok', 'disableAt': 1000, 'warnAt': 800}},\n",
       "  'boards': {'totalMembersPerBoard': {'status': 'ok',\n",
       "    'disableAt': 1600,\n",
       "    'warnAt': 1280},\n",
       "   'totalAccessRequestsPerBoard': {'status': 'ok',\n",
       "    'disableAt': 4000,\n",
       "    'warnAt': 3200}},\n",
       "  'cards': {'openPerBoard': {'status': 'ok',\n",
       "    'disableAt': 5000,\n",
       "    'warnAt': 4000},\n",
       "   'openPerList': {'status': 'ok', 'disableAt': 5000, 'warnAt': 4000},\n",
       "   'totalPerBoard': {'status': 'ok', 'disableAt': 2000000, 'warnAt': 1600000},\n",
       "   'totalPerList': {'status': 'ok', 'disableAt': 1000000, 'warnAt': 800000}},\n",
       "  'checklists': {'perBoard': {'status': 'ok',\n",
       "    'disableAt': 1800000,\n",
       "    'warnAt': 1440000},\n",
       "   'perCard': {'status': 'ok', 'disableAt': 500, 'warnAt': 400}},\n",
       "  'checkItems': {'perChecklist': {'status': 'ok',\n",
       "    'disableAt': 200,\n",
       "    'warnAt': 160}},\n",
       "  'customFields': {'perBoard': {'status': 'ok',\n",
       "    'disableAt': 50,\n",
       "    'warnAt': 40}},\n",
       "  'customFieldOptions': {'perField': {'status': 'ok',\n",
       "    'disableAt': 50,\n",
       "    'warnAt': 40}},\n",
       "  'labels': {'perBoard': {'status': 'ok', 'disableAt': 1000, 'warnAt': 800}},\n",
       "  'lists': {'openPerBoard': {'status': 'ok', 'disableAt': 500, 'warnAt': 400},\n",
       "   'totalPerBoard': {'status': 'ok', 'disableAt': 3000, 'warnAt': 2400}},\n",
       "  'stickers': {'perCard': {'status': 'ok', 'disableAt': 70, 'warnAt': 56}},\n",
       "  'reactions': {'perAction': {'status': 'ok', 'disableAt': 900, 'warnAt': 720},\n",
       "   'uniquePerAction': {'status': 'ok', 'disableAt': 17, 'warnAt': 14}}},\n",
       " 'pinned': False,\n",
       " 'starred': False,\n",
       " 'url': 'https://trello.com/b/CLAeWYQR/the-crushboard',\n",
       " 'prefs': {'permissionLevel': 'private',\n",
       "  'hideVotes': False,\n",
       "  'voting': 'disabled',\n",
       "  'comments': 'members',\n",
       "  'invitations': 'members',\n",
       "  'selfJoin': False,\n",
       "  'cardCovers': True,\n",
       "  'showCompleteStatus': True,\n",
       "  'cardCounts': False,\n",
       "  'isTemplate': False,\n",
       "  'cardAging': 'regular',\n",
       "  'calendarFeedEnabled': False,\n",
       "  'hiddenPluginBoardButtons': [],\n",
       "  'switcherViews': [{'viewType': 'Board', 'enabled': True},\n",
       "   {'viewType': 'Table', 'enabled': True},\n",
       "   {'viewType': 'Calendar', 'enabled': False},\n",
       "   {'viewType': 'Dashboard', 'enabled': False},\n",
       "   {'viewType': 'Timeline', 'enabled': False},\n",
       "   {'viewType': 'Map', 'enabled': False}],\n",
       "  'background': '5dfa855f31b76a80318febaf',\n",
       "  'backgroundColor': None,\n",
       "  'backgroundDarkColor': None,\n",
       "  'backgroundImage': 'https://trello-backgrounds.s3.amazonaws.com/SharedBackground/original/d71b9370b4cba91634ae4ffe331fb59a/photo-1576502200916-3808e07386a5',\n",
       "  'backgroundDarkImage': None,\n",
       "  'backgroundImageScaled': [{'width': 140,\n",
       "    'height': 94,\n",
       "    'url': 'https://trello-backgrounds.s3.amazonaws.com/SharedBackground/140x94/47f09f0e3910259568294477d0bdedac/photo-1576502200916-3808e07386a5.jpg'},\n",
       "   {'width': 256,\n",
       "    'height': 172,\n",
       "    'url': 'https://trello-backgrounds.s3.amazonaws.com/SharedBackground/256x172/47f09f0e3910259568294477d0bdedac/photo-1576502200916-3808e07386a5.jpg'},\n",
       "   {'width': 480,\n",
       "    'height': 322,\n",
       "    'url': 'https://trello-backgrounds.s3.amazonaws.com/SharedBackground/480x322/47f09f0e3910259568294477d0bdedac/photo-1576502200916-3808e07386a5.jpg'},\n",
       "   {'width': 960,\n",
       "    'height': 644,\n",
       "    'url': 'https://trello-backgrounds.s3.amazonaws.com/SharedBackground/960x644/47f09f0e3910259568294477d0bdedac/photo-1576502200916-3808e07386a5.jpg'},\n",
       "   {'width': 1024,\n",
       "    'height': 687,\n",
       "    'url': 'https://trello-backgrounds.s3.amazonaws.com/SharedBackground/1024x687/47f09f0e3910259568294477d0bdedac/photo-1576502200916-3808e07386a5.jpg'},\n",
       "   {'width': 1280,\n",
       "    'height': 859,\n",
       "    'url': 'https://trello-backgrounds.s3.amazonaws.com/SharedBackground/1280x859/47f09f0e3910259568294477d0bdedac/photo-1576502200916-3808e07386a5.jpg'},\n",
       "   {'width': 1920,\n",
       "    'height': 1288,\n",
       "    'url': 'https://trello-backgrounds.s3.amazonaws.com/SharedBackground/1920x1288/47f09f0e3910259568294477d0bdedac/photo-1576502200916-3808e07386a5.jpg'},\n",
       "   {'width': 2048,\n",
       "    'height': 1374,\n",
       "    'url': 'https://trello-backgrounds.s3.amazonaws.com/SharedBackground/2048x1374/47f09f0e3910259568294477d0bdedac/photo-1576502200916-3808e07386a5.jpg'},\n",
       "   {'width': 2386,\n",
       "    'height': 1600,\n",
       "    'url': 'https://trello-backgrounds.s3.amazonaws.com/SharedBackground/2386x1600/47f09f0e3910259568294477d0bdedac/photo-1576502200916-3808e07386a5.jpg'},\n",
       "   {'width': 2560,\n",
       "    'height': 1717,\n",
       "    'url': 'https://trello-backgrounds.s3.amazonaws.com/SharedBackground/original/d71b9370b4cba91634ae4ffe331fb59a/photo-1576502200916-3808e07386a5'}],\n",
       "  'backgroundTile': False,\n",
       "  'backgroundBrightness': 'light',\n",
       "  'sharedSourceUrl': 'https://images.unsplash.com/photo-1576502200916-3808e07386a5?ixlib=rb-1.2.1&ixid=eyJhcHBfaWQiOjcwNjZ9&w=2560&h=2048&q=90',\n",
       "  'backgroundBottomColor': '#068faa',\n",
       "  'backgroundTopColor': '#ddaba7',\n",
       "  'canBePublic': True,\n",
       "  'canBeEnterprise': True,\n",
       "  'canBeOrg': True,\n",
       "  'canBePrivate': True,\n",
       "  'canInvite': True},\n",
       " 'shortLink': 'CLAeWYQR',\n",
       " 'subscribed': False,\n",
       " 'labelNames': {'green': 'Computer Arch. & Net.',\n",
       "  'yellow': '',\n",
       "  'orange': 'Analysis of Algorithms',\n",
       "  'red': '',\n",
       "  'purple': 'Fund. of Comp. Science',\n",
       "  'blue': '',\n",
       "  'sky': '',\n",
       "  'lime': '',\n",
       "  'pink': '',\n",
       "  'black': '',\n",
       "  'green_dark': '',\n",
       "  'yellow_dark': '',\n",
       "  'orange_dark': '',\n",
       "  'red_dark': '',\n",
       "  'purple_dark': '',\n",
       "  'blue_dark': '',\n",
       "  'sky_dark': '',\n",
       "  'lime_dark': '',\n",
       "  'pink_dark': '',\n",
       "  'black_dark': '',\n",
       "  'green_light': '',\n",
       "  'yellow_light': '',\n",
       "  'orange_light': '',\n",
       "  'red_light': '',\n",
       "  'purple_light': '',\n",
       "  'blue_light': '',\n",
       "  'sky_light': '',\n",
       "  'lime_light': '',\n",
       "  'pink_light': '',\n",
       "  'black_light': 'Managed By App'},\n",
       " 'powerUps': [],\n",
       " 'dateLastActivity': '2025-02-08T23:39:41.556Z',\n",
       " 'dateLastView': '2025-02-09T03:23:51.500Z',\n",
       " 'shortUrl': 'https://trello.com/b/CLAeWYQR',\n",
       " 'idTags': [],\n",
       " 'datePluginDisable': None,\n",
       " 'creationMethod': None,\n",
       " 'ixUpdate': '3014',\n",
       " 'templateGallery': None,\n",
       " 'enterpriseOwned': False,\n",
       " 'idBoardSource': '5e20e06c460b391727ce7a2b',\n",
       " 'premiumFeatures': ['additionalBoardBackgrounds',\n",
       "  'additionalStickers',\n",
       "  'customBoardBackgrounds',\n",
       "  'customEmoji',\n",
       "  'customStickers',\n",
       "  'plugins'],\n",
       " 'idMemberCreator': '64e63e888fb31ee48931af23',\n",
       " 'type': None,\n",
       " 'memberships': [{'id': '679aabbe7f95308962f44e50',\n",
       "   'idMember': '64e63e888fb31ee48931af23',\n",
       "   'memberType': 'admin',\n",
       "   'unconfirmed': False,\n",
       "   'deactivated': False}]}"
      ]
     },
     "execution_count": 13,
     "metadata": {},
     "output_type": "execute_result"
    }
   ],
   "source": [
    "trello.get_my_boards()[2]"
   ]
  }
 ],
 "metadata": {
  "kernelspec": {
   "display_name": "Python 3",
   "language": "python",
   "name": "python3"
  },
  "language_info": {
   "codemirror_mode": {
    "name": "ipython",
    "version": 3
   },
   "file_extension": ".py",
   "mimetype": "text/x-python",
   "name": "python",
   "nbconvert_exporter": "python",
   "pygments_lexer": "ipython3",
   "version": "3.11.7"
  }
 },
 "nbformat": 4,
 "nbformat_minor": 2
}
